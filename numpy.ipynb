{
 "cells": [
  {
   "cell_type": "markdown",
   "id": "4ca9342c",
   "metadata": {},
   "source": [
    "# Create a null vector of size 10 but the fifth value which is 1"
   ]
  },
  {
   "cell_type": "code",
   "execution_count": null,
   "id": "5b25e4eb",
   "metadata": {},
   "outputs": [],
   "source": [
    "import numpy as np\n",
    "x=np.zeros(10)\n",
    "x[4]=1\n",
    "x"
   ]
  },
  {
   "cell_type": "markdown",
   "id": "2ae388fa",
   "metadata": {},
   "source": [
    "# Create a vector with values ranging from 10 to 49"
   ]
  },
  {
   "cell_type": "code",
   "execution_count": null,
   "id": "6f50f69a",
   "metadata": {},
   "outputs": [],
   "source": [
    "import numpy as np\n",
    "vector = np.arange(10,49)\n",
    "print(\"Original vector:\")\n",
    "print(vector)"
   ]
  },
  {
   "cell_type": "markdown",
   "id": "ba85f575",
   "metadata": {},
   "source": [
    "## Create a 3x3 matrix with values ranging from 0 to 8H"
   ]
  },
  {
   "cell_type": "code",
   "execution_count": null,
   "id": "96c0c711",
   "metadata": {},
   "outputs": [],
   "source": [
    "import numpy as np\n",
    "x =  np.arange(0,9).reshape(3,3)\n",
    "print(x)"
   ]
  },
  {
   "cell_type": "markdown",
   "id": "418f4e72",
   "metadata": {},
   "source": [
    "# Find indices of non-zero elements from [1,2,0,0,4,0]"
   ]
  },
  {
   "cell_type": "code",
   "execution_count": null,
   "id": "aef04310",
   "metadata": {},
   "outputs": [],
   "source": [
    "q=np.array([1,2,0,0,4,0])\n",
    "q[q>0]"
   ]
  },
  {
   "cell_type": "markdown",
   "id": "b015ccec",
   "metadata": {},
   "source": [
    "# Create a 10x10 array with random values and find the minimum and maximum values"
   ]
  },
  {
   "cell_type": "code",
   "execution_count": null,
   "id": "2d020bf4",
   "metadata": {},
   "outputs": [],
   "source": [
    "z=np.random.randint(1,100,(10,10))\n",
    "print(z)\n",
    "zmin,zmax=z.min(),z.max()\n",
    "print('minimum value is:',zmin)\n",
    "print('maximum value is:',zmax)\n"
   ]
  },
  {
   "cell_type": "markdown",
   "id": "da513c6d",
   "metadata": {},
   "source": [
    "# Create a random vector of size 30 and find the mean value."
   ]
  },
  {
   "cell_type": "code",
   "execution_count": null,
   "id": "52b37b6b",
   "metadata": {},
   "outputs": [],
   "source": [
    "import numpy as np\n",
    "vector = np.random.random(30)\n",
    "print(\"Original array:\")\n",
    "print(vector)\n",
    "print('mean value is:',np.mean(vector))"
   ]
  }
 ],
 "metadata": {
  "kernelspec": {
   "display_name": "Python 3 (ipykernel)",
   "language": "python",
   "name": "python3"
  },
  "language_info": {
   "codemirror_mode": {
    "name": "ipython",
    "version": 3
   },
   "file_extension": ".py",
   "mimetype": "text/x-python",
   "name": "python",
   "nbconvert_exporter": "python",
   "pygments_lexer": "ipython3",
   "version": "3.8.2"
  }
 },
 "nbformat": 4,
 "nbformat_minor": 5
}
